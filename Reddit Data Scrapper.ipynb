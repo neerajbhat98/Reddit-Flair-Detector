{
 "cells": [
  {
   "cell_type": "code",
   "execution_count": 8,
   "metadata": {},
   "outputs": [],
   "source": [
    "import flask\n",
    "import praw \n",
    "from praw.models import MoreComments\n",
    "import pandas as pd\n",
    "import requests\n",
    "import json\n",
    "import csv\n",
    "import time\n",
    "import datetime\n",
    "from praw.models import Submission\n",
    "import requests"
   ]
  },
  {
   "cell_type": "code",
   "execution_count": 9,
   "metadata": {},
   "outputs": [],
   "source": [
    "client_id = 'gLwv0aerGRmt9A'\n",
    "client_secret = 'hYQwRYZJVEUgKzJ7jrLIx8RT7ZE'\n",
    "user_agent = 'Midas'\n",
    "reddit = praw.Reddit(client_id= client_id,\n",
    "                     client_secret=client_secret,\n",
    "                     user_agent=user_agent)"
   ]
  },
  {
   "cell_type": "code",
   "execution_count": 10,
   "metadata": {},
   "outputs": [],
   "source": [
    "\n",
    "#flairs = [\"AskIndia\", \"Non-Political\", \"[R]eddiquette\", \"Photography\", \"Science/Technology\", \"Coronavirus\",\"Politics\", \"Business/Finance\", \"Policy/Economy\", \"Sports\", \"Food\",]"
   ]
  },
  {
   "cell_type": "code",
   "execution_count": 11,
   "metadata": {},
   "outputs": [],
   "source": [
    "\n",
    "flairs = [\"AskIndia\", \"Non-Political\", \"Science/Technology\", \"Coronavirus\",\"Politics\", \"Business/Finance\", \"Policy/Economy\",\"Sports\", \"Food\"]"
   ]
  },
  {
   "cell_type": "code",
   "execution_count": 12,
   "metadata": {},
   "outputs": [],
   "source": [
    "submission_dict  = {\"flair\":[], \"title\":[],\"id\":[], \"url\":[], \"body\":[],\"author\":[],\"num_of_comments\":[],\"created_at\":[],\"score\":[],\"upvote_ratio\":[]}\n",
    "statistics_dict = {}\n",
    "total_submissions = 0; "
   ]
  },
  {
   "cell_type": "code",
   "execution_count": 25,
   "metadata": {},
   "outputs": [],
   "source": [
    "def getPushshiftData(after,sub):\n",
    "    url = 'https://api.pushshift.io/reddit/search/submission?title=&size=1000&after='+str(after)+'&subreddit='+str(sub)\n",
    "    r = requests.get(url).json()\n",
    "    return r['data']"
   ]
  },
  {
   "cell_type": "code",
   "execution_count": 26,
   "metadata": {},
   "outputs": [],
   "source": [
    "def create_submission_dictionary(data):\n",
    "    count = 0\n",
    "    for submission in data :\n",
    "        if 'selftext' in submission.keys():\n",
    "             if not (submission['selftext'] ==  '[removed]' or submission['selftext']  == '[deleted]'):\n",
    "                if 'link_flair_text' in submission.keys() and len(submission['selftext'])>0:\n",
    "                        submission_dict['flair'].append(submission['link_flair_text'])\n",
    "                        submission_dict['title'].append(submission['title'])\n",
    "                        submission_dict['id'].append(submission['id'])\n",
    "                        submission_dict['url'].append(submission['full_link'])\n",
    "                        submission_dict[\"body\"].append(submission['selftext'])\n",
    "                        submission_dict[\"author\"].append(submission['author'])\n",
    "                        s = Submission(reddit = reddit, url = submission['full_link'])\n",
    "                        submission_dict[\"num_of_comments\"].append(s.num_comments)\n",
    "                        submission_dict[\"upvote_ratio\"].append(s.upvote_ratio)\n",
    "                        submission_dict[\"created_at\"].append(submission['created_utc'])\n",
    "                        submission_dict[\"score\"].append(submission['score'])\n",
    "                        count+=1\n",
    "    return count                     "
   ]
  },
  {
   "cell_type": "code",
   "execution_count": null,
   "metadata": {},
   "outputs": [
    {
     "name": "stdout",
     "output_type": "stream",
     "text": [
      "707\n"
     ]
    }
   ],
   "source": [
    "sub='india'\n",
    "#Jan 1 2017\n",
    "after = \"1483228800\"\n",
    "data = getPushshiftData(after, sub)\n",
    "total_submissions += create_submission_dictionary(data)\n",
    "print(total_submissions)\n",
    "\n",
    "while len(data) > 0:\n",
    "    data = getPushshiftData(sub=sub, after=data[-1]['created_utc'])\n",
    "    total_submissions += create_submission_dictionary(data)\n",
    "\n",
    "print(total_submissions)"
   ]
  },
  {
   "cell_type": "code",
   "execution_count": null,
   "metadata": {},
   "outputs": [],
   "source": [
    "with open('scraped_data1.json','w') as f:\n",
    "    json.dump(submission_dict,f)"
   ]
  },
  {
   "cell_type": "code",
   "execution_count": 21,
   "metadata": {},
   "outputs": [],
   "source": [
    "f = open('scraped_data1.json',) \n",
    "data = json.load(f) \n",
    "\n",
    "statistics_dict = {}\n",
    "for i in data['flair']:\n",
    "    if i not in statistics_dict.keys():\n",
    "        statistics_dict[i] = 1\n",
    "    else:    \n",
    "        statistics_dict[i]+=1\n",
    "    "
   ]
  },
  {
   "cell_type": "code",
   "execution_count": 23,
   "metadata": {},
   "outputs": [],
   "source": [
    "with open('data_for_eda.json', 'w') as fp:\n",
    "    json.dump(statistics_dict, fp)"
   ]
  },
  {
   "cell_type": "code",
   "execution_count": 22,
   "metadata": {},
   "outputs": [
    {
     "name": "stdout",
     "output_type": "stream",
     "text": [
      "Business/Finance   636\n",
      "Non-Political   4511\n",
      "AskIndia   10152\n",
      "Sports   156\n",
      "Science/Technology   731\n",
      "Politics   3916\n",
      "Policy/Economy   771\n",
      "Food   217\n",
      "Coronavirus   1178\n"
     ]
    }
   ],
   "source": [
    "for k,v in statistics_dict.items():\n",
    "    print(k,\" \",v)"
   ]
  },
  {
   "cell_type": "code",
   "execution_count": 24,
   "metadata": {},
   "outputs": [
    {
     "name": "stdout",
     "output_type": "stream",
     "text": [
      "In less then 150 days, India will have a new elected National  government. With the defeat of BJP in assembly elections of madhya pradesh, rajasthan and chattisgarh, the field is now wide open for 2019. The SP-BSP mahagatbandan, a resurgent Congress, wild card priyanka gandhi, poor performance on job creation front and  agrarian distress is going to make it difficult for BJP to repeat their 2019 performance. Currently, 3 possible outcomes are possible for 2019. Here I will try to analyse all 3 of them.\n",
      "\n",
      "# Scenario 1 - BJP or Congress end up getting outright majority.(Best case) \n",
      "\n",
      "As of now, this situation is **very, very unlikely** \n",
      "\n",
      "While the Congress is definitely getting out of its slump, it is still not at its full strength. Also, we need to keep in mind, that Indian voters are very smart. They are capable of differentiating state elections and national elections. 2004 national elections being the most recent example. When BJP won a thumping majority in madhya pradesh, rajasthan and Chattisgarh, an overconfident national leadership of BJP interpreted it as a thumps up for the vajpayee government. The overconfidence, coupled with a disastrous 'India shining' resulted in a shock defeat of NDA 1. So, its quite naive and outright disingenuous to interpret the state elections result as an indicator of national mood \n",
      "\n",
      "Coming to the BJP, while it's still powerful in all the states which propelled it to power in 2014, there are multiple factors that can rain on its electoral parade. Rural distress, dismal performance on job creation front and the disgruntled regional allies is going to put massive obstacles for BJP on the road to Delhi. \n",
      "\n",
      "Speaking strictly from an economic and political perspective, an outright majority for BJP or Congress is best outcome for a stable and positive economic outlook. However as of now, its quite unlikely\n"
     ]
    }
   ],
   "source": [
    "print(submission_dict['body'][900])"
   ]
  },
  {
   "cell_type": "code",
   "execution_count": 28,
   "metadata": {},
   "outputs": [],
   "source": []
  },
  {
   "cell_type": "code",
   "execution_count": 29,
   "metadata": {},
   "outputs": [
    {
     "data": {
      "text/plain": [
       "{1: 2}"
      ]
     },
     "execution_count": 29,
     "metadata": {},
     "output_type": "execute_result"
    }
   ],
   "source": [
    "x"
   ]
  },
  {
   "cell_type": "code",
   "execution_count": null,
   "metadata": {},
   "outputs": [],
   "source": []
  }
 ],
 "metadata": {
  "kernelspec": {
   "display_name": "Python 3",
   "language": "python",
   "name": "python3"
  },
  "language_info": {
   "codemirror_mode": {
    "name": "ipython",
    "version": 3
   },
   "file_extension": ".py",
   "mimetype": "text/x-python",
   "name": "python",
   "nbconvert_exporter": "python",
   "pygments_lexer": "ipython3",
   "version": "3.7.6"
  }
 },
 "nbformat": 4,
 "nbformat_minor": 4
}
