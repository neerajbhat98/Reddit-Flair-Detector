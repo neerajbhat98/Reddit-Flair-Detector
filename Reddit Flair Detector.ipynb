{
 "cells": [
  {
   "cell_type": "markdown",
   "metadata": {},
   "source": [
    "**All the text cleaning done by a Package called Clean-text**"
   ]
  },
  {
   "cell_type": "code",
   "execution_count": 1,
   "metadata": {},
   "outputs": [
    {
     "name": "stdout",
     "output_type": "stream",
     "text": [
      "Collecting clean-text\r\n",
      "  Downloading clean_text-0.1.1-py3-none-any.whl (9.0 kB)\r\n",
      "Requirement already satisfied: ftfy in /opt/conda/lib/python3.6/site-packages (from clean-text) (5.7)\r\n",
      "Requirement already satisfied: wcwidth in /opt/conda/lib/python3.6/site-packages (from ftfy->clean-text) (0.1.9)\r\n",
      "Installing collected packages: clean-text\r\n",
      "Successfully installed clean-text-0.1.1\r\n"
     ]
    }
   ],
   "source": [
    "!pip install clean-text"
   ]
  },
  {
   "cell_type": "code",
   "execution_count": 2,
   "metadata": {},
   "outputs": [],
   "source": [
    "#!pip install --upgrade pip setuptools wheel\n",
    "#!pip install -I tensorflow\n",
    "#!pip install -I keras"
   ]
  },
  {
   "cell_type": "markdown",
   "metadata": {},
   "source": [
    "**Importing all the libraries**"
   ]
  },
  {
   "cell_type": "code",
   "execution_count": 3,
   "metadata": {
    "_cell_guid": "b1076dfc-b9ad-4769-8c92-a6c4dae69d19",
    "_uuid": "8f2839f25d086af736a60e9eeb907d3b93b6e0e5"
   },
   "outputs": [
    {
     "name": "stderr",
     "output_type": "stream",
     "text": [
      "Using TensorFlow backend.\n"
     ]
    }
   ],
   "source": [
    "import json\n",
    "import keras\n",
    "import numpy as np\n",
    "import os\n",
    "from keras.preprocessing.text import Tokenizer\n",
    "from keras.preprocessing.sequence import pad_sequences\n",
    "from keras.models import Sequential\n",
    "from keras.layers import Dense, Flatten, LSTM, Conv1D, MaxPooling1D, Dropout, Activation\n",
    "from keras.layers.embeddings import Embedding\n",
    "from keras.utils import to_categorical\n",
    "from keras.layers import Dense, Input, GlobalMaxPooling1D\n",
    "from keras.layers import Conv1D, MaxPooling1D, Embedding\n",
    "from keras.models import Model\n",
    "from keras.initializers import Constant\n",
    "import re\n",
    "import csv\n",
    "import codecs\n",
    "import pandas as pd\n",
    "from nltk.corpus import stopwords\n",
    "from nltk.stem import SnowballStemmer\n",
    "from string import punctuation\n",
    "from cleantext import clean\n",
    "from nltk.stem import PorterStemmer\n",
    "from nltk.stem import LancasterStemmer\n",
    "from sklearn.model_selection import train_test_split\n",
    "from keras.models import Sequential, load_model"
   ]
  },
  {
   "cell_type": "markdown",
   "metadata": {},
   "source": [
    "**A generic function which returns the cleaned text after applying several transformations**"
   ]
  },
  {
   "cell_type": "code",
   "execution_count": 5,
   "metadata": {},
   "outputs": [],
   "source": [
    "def preprocess_text(text):\n",
    "        text = clean(text,fix_unicode=True,               # fix various unicode errors\n",
    "            to_ascii=True,                  # transliterate to closest ASCII representation\n",
    "            lower=True,                     # lowercase text\n",
    "            no_line_breaks=False,           # fully strip line breaks as opposed to only normalizing them\n",
    "            no_urls=True,                  # replace all URLs with a special token\n",
    "            no_emails=True,                # replace all email addresses with a special token\n",
    "            no_phone_numbers=True,         # replace all phone numbers with a special token\n",
    "            no_numbers=True,               # replace all numbers with a special token\n",
    "            no_digits=True,                # replace all digits with a special token\n",
    "            no_currency_symbols=True,      # replace all currency symbols with a special token\n",
    "            no_punct=True,                 # fully remove punctuation\n",
    "            replace_with_url=\"\",\n",
    "            replace_with_email=\"\",\n",
    "            replace_with_phone_number=\"\",\n",
    "            replace_with_number=\"\",\n",
    "            replace_with_digit=\"\",\n",
    "            replace_with_currency_symbol=\"\",\n",
    "            lang=\"en\"                       # set to 'de' for German special handling\n",
    "        )\n",
    "        whitelist = set('abcdefghijklmnopqrstuvwxyz ABCDEFGHIJKLMNOPQRSTUVWXYZ')\n",
    "        text = ''.join(filter(whitelist.__contains__, text))    \n",
    "        \n",
    "        return text"
   ]
  },
  {
   "cell_type": "markdown",
   "metadata": {},
   "source": [
    "**Loading json data collected by scrapping data from Reddit**"
   ]
  },
  {
   "cell_type": "code",
   "execution_count": 6,
   "metadata": {
    "_cell_guid": "79c7e3d0-c299-4dcb-8224-4455121ee9b0",
    "_uuid": "d629ff2d2480ee46fbb7e2d37f6b5fab8052498a"
   },
   "outputs": [],
   "source": [
    "file1 = open('../input/scraped-data/scraped_data.json',) \n",
    "data1 = json.load(file1) \n",
    "\n",
    "file2 = open('../input/json-files/additional_data_1.json',) \n",
    "data2 = json.load(file2) "
   ]
  },
  {
   "cell_type": "code",
   "execution_count": 7,
   "metadata": {},
   "outputs": [],
   "source": [
    "flair_wise_dict = {\"AskIndia\":[], \"Non-Political\":[], \"Science/Technology\":[], \"Coronavirus\":[],\"Politics\":[],\"Business/Finance\":[], \"Policy/Economy\":[],\"Sports\":[], \"Food\":[]}\n",
    "num_of_records = len(data1['flair'])  \n",
    "for it in range(num_of_records):\n",
    "    flair = data1['flair'][it]\n",
    "    content = data1['body'][it]\n",
    "    title = data1['title'][it]\n",
    "    flair_wise_dict[flair].append(title+\" \"+content)\n",
    "num_of_records = len(data2['flair'])\n",
    "for it in range(num_of_records):\n",
    "    flair = data2['flair'][it]\n",
    "    content = data2['body'][it]\n",
    "    title = data2['title'][it]\n",
    "    flair_wise_dict[flair].append(title+\" \"+content)"
   ]
  },
  {
   "cell_type": "code",
   "execution_count": 8,
   "metadata": {},
   "outputs": [],
   "source": [
    "flair_wise_dict['Business/Finance'] = flair_wise_dict['Business/Finance'] + flair_wise_dict['Policy/Economy']\n"
   ]
  },
  {
   "cell_type": "code",
   "execution_count": 9,
   "metadata": {},
   "outputs": [],
   "source": [
    "del flair_wise_dict['Policy/Economy']"
   ]
  },
  {
   "cell_type": "code",
   "execution_count": 10,
   "metadata": {},
   "outputs": [],
   "source": [
    "X = []\n",
    "Y = []"
   ]
  },
  {
   "cell_type": "markdown",
   "metadata": {},
   "source": [
    "**Feeding in data for training and testing **"
   ]
  },
  {
   "cell_type": "code",
   "execution_count": 11,
   "metadata": {},
   "outputs": [],
   "source": [
    "max_length = 0\n",
    "for flair,content in flair_wise_dict.items():\n",
    "     if len(content)<1500:\n",
    "        for text in content:\n",
    "            cleaned_text = preprocess_text(text)\n",
    "            max_length = max(max_length,len(re.findall(r'\\w+', cleaned_text)))\n",
    "            if len(cleaned_text)>0:\n",
    "                X.append(cleaned_text)\n",
    "                Y.append(flair)\n",
    "     else:\n",
    "         body = content[len(content)-1500:]\n",
    "         for text in body:\n",
    "            cleaned_text = preprocess_text(text)\n",
    "            max_length = max(max_length,len(re.findall(r'\\w+', cleaned_text)))\n",
    "            if len(cleaned_text)>0:\n",
    "                X.append(cleaned_text)\n",
    "                Y.append(flair)\n",
    "     "
   ]
  },
  {
   "cell_type": "markdown",
   "metadata": {},
   "source": [
    "**Total data size**"
   ]
  },
  {
   "cell_type": "code",
   "execution_count": 12,
   "metadata": {},
   "outputs": [
    {
     "name": "stdout",
     "output_type": "stream",
     "text": [
      "9426 9426\n"
     ]
    }
   ],
   "source": [
    "print(len(X),len(Y))\n"
   ]
  },
  {
   "cell_type": "markdown",
   "metadata": {},
   "source": [
    "**Creating dictionary for words from Glove embeddings**"
   ]
  },
  {
   "cell_type": "code",
   "execution_count": 13,
   "metadata": {},
   "outputs": [
    {
     "name": "stdout",
     "output_type": "stream",
     "text": [
      "Indexing word vectors.\n",
      "Found 400000 word vectors.\n"
     ]
    }
   ],
   "source": [
    "BASE_DIR = '../input/'\n",
    "GLOVE_DIR = os.path.join(BASE_DIR, 'glove6b')\n",
    "print('Indexing word vectors.')\n",
    "\n",
    "embeddings_index = {}\n",
    "with open(os.path.join(GLOVE_DIR, 'glove.6B.100d.txt')) as f:\n",
    "    for line in f:\n",
    "        word, coefs = line.split(maxsplit=1)\n",
    "        coefs = np.fromstring(coefs, 'f', sep=' ')\n",
    "        embeddings_index[word] = coefs\n",
    "\n",
    "print('Found %s word vectors.' % len(embeddings_index))\n",
    "\n"
   ]
  },
  {
   "cell_type": "markdown",
   "metadata": {},
   "source": [
    "**Hyperparameters**"
   ]
  },
  {
   "cell_type": "code",
   "execution_count": 14,
   "metadata": {},
   "outputs": [],
   "source": [
    "MAX_NUM_WORDS= 100000\n",
    "EMBEDDING_DIM = 100\n",
    "MAX_SEQUENCE_LENGTH = 2000"
   ]
  },
  {
   "cell_type": "code",
   "execution_count": 15,
   "metadata": {},
   "outputs": [],
   "source": [
    "tokenizer = Tokenizer(num_words = MAX_NUM_WORDS)\n",
    "tokenizer.fit_on_texts(X)\n",
    "sequences = tokenizer.texts_to_sequences(X)"
   ]
  },
  {
   "cell_type": "code",
   "execution_count": 16,
   "metadata": {},
   "outputs": [
    {
     "name": "stdout",
     "output_type": "stream",
     "text": [
      "Found 58276 unique tokens.\n"
     ]
    }
   ],
   "source": [
    "word_index = tokenizer.word_index\n",
    "print('Found %s unique tokens.' % len(word_index))"
   ]
  },
  {
   "cell_type": "code",
   "execution_count": 17,
   "metadata": {},
   "outputs": [],
   "source": [
    "X = pad_sequences(sequences, maxlen=MAX_SEQUENCE_LENGTH)"
   ]
  },
  {
   "cell_type": "code",
   "execution_count": 18,
   "metadata": {},
   "outputs": [
    {
     "name": "stdout",
     "output_type": "stream",
     "text": [
      "{'AskIndia': 0, 'Non-Political': 1, 'Science/Technology': 2, 'Coronavirus': 3, 'Politics': 4, 'Business/Finance': 5, 'Sports': 6, 'Food': 7}\n"
     ]
    }
   ],
   "source": [
    "reverse_dict = {}\n",
    "index = 0\n",
    "for k,v in flair_wise_dict.items():\n",
    "    reverse_dict[k] = index\n",
    "    index+=1\n",
    "\n",
    "print(reverse_dict)"
   ]
  },
  {
   "cell_type": "code",
   "execution_count": 19,
   "metadata": {},
   "outputs": [],
   "source": [
    "for index in range(len(Y)):\n",
    "    Y[index] = reverse_dict[Y[index]]"
   ]
  },
  {
   "cell_type": "code",
   "execution_count": 20,
   "metadata": {},
   "outputs": [],
   "source": [
    "Y = to_categorical(np.asarray(Y))"
   ]
  },
  {
   "cell_type": "markdown",
   "metadata": {},
   "source": [
    "**Splitting into train and test set**"
   ]
  },
  {
   "cell_type": "code",
   "execution_count": 21,
   "metadata": {},
   "outputs": [],
   "source": [
    "X_train, X_test, Y_train, Y_test = train_test_split( X, Y, test_size=0.1)"
   ]
  },
  {
   "cell_type": "markdown",
   "metadata": {},
   "source": [
    "**Preparing embedding matrix.**"
   ]
  },
  {
   "cell_type": "code",
   "execution_count": 22,
   "metadata": {},
   "outputs": [
    {
     "name": "stdout",
     "output_type": "stream",
     "text": [
      "Preparing embedding matrix.\n"
     ]
    }
   ],
   "source": [
    "print('Preparing embedding matrix.')\n",
    "\n",
    "# prepare embedding matrix\n",
    "num_words = min(MAX_NUM_WORDS, len(word_index) + 1)\n",
    "embedding_matrix = np.zeros((num_words, EMBEDDING_DIM))\n",
    "for word, i in word_index.items():\n",
    "    if i >= MAX_NUM_WORDS:\n",
    "        continue\n",
    "    embedding_vector = embeddings_index.get(word)\n",
    "    if embedding_vector is not None:\n",
    "        # words not found in embedding index will be all-zeros.\n",
    "        embedding_matrix[i] = embedding_vector"
   ]
  },
  {
   "cell_type": "markdown",
   "metadata": {},
   "source": [
    "**Model Definitions and Architecture**"
   ]
  },
  {
   "cell_type": "code",
   "execution_count": 23,
   "metadata": {},
   "outputs": [
    {
     "name": "stdout",
     "output_type": "stream",
     "text": [
      "Model: \"sequential_1\"\n",
      "_________________________________________________________________\n",
      "Layer (type)                 Output Shape              Param #   \n",
      "=================================================================\n",
      "embedding_1 (Embedding)      (None, 2000, 100)         5827700   \n",
      "_________________________________________________________________\n",
      "lstm_1 (LSTM)                (None, 100)               80400     \n",
      "_________________________________________________________________\n",
      "dense_1 (Dense)              (None, 8)                 808       \n",
      "=================================================================\n",
      "Total params: 5,908,908\n",
      "Trainable params: 5,908,908\n",
      "Non-trainable params: 0\n",
      "_________________________________________________________________\n",
      "None\n"
     ]
    }
   ],
   "source": [
    "model = Sequential()\n",
    "model.add(Embedding(num_words, output_dim = EMBEDDING_DIM,weights=[embedding_matrix],trainable=True, input_length= MAX_SEQUENCE_LENGTH))\n",
    "model.add(LSTM(100, dropout=0.2, recurrent_dropout=0.2))\n",
    "model.add(Dense(len(reverse_dict), activation='softmax'))\n",
    "model.compile(loss='binary_crossentropy', optimizer='adam', metrics=['accuracy'])\n",
    "print(model.summary())"
   ]
  },
  {
   "cell_type": "markdown",
   "metadata": {},
   "source": [
    "**Training Model**"
   ]
  },
  {
   "cell_type": "code",
   "execution_count": 24,
   "metadata": {},
   "outputs": [
    {
     "name": "stderr",
     "output_type": "stream",
     "text": [
      "/opt/conda/lib/python3.6/site-packages/tensorflow_core/python/framework/indexed_slices.py:433: UserWarning: Converting sparse IndexedSlices to a dense Tensor of unknown shape. This may consume a large amount of memory.\n",
      "  \"Converting sparse IndexedSlices to a dense Tensor of unknown shape. \"\n"
     ]
    },
    {
     "name": "stdout",
     "output_type": "stream",
     "text": [
      "Train on 8483 samples, validate on 943 samples\n",
      "Epoch 1/10\n",
      "8483/8483 [==============================] - 167s 20ms/step - loss: 0.3506 - accuracy: 0.8754 - val_loss: 0.3194 - val_accuracy: 0.8812\n",
      "Epoch 2/10\n",
      "8483/8483 [==============================] - 164s 19ms/step - loss: 0.3173 - accuracy: 0.8805 - val_loss: 0.2896 - val_accuracy: 0.8888\n",
      "Epoch 3/10\n",
      "8483/8483 [==============================] - 167s 20ms/step - loss: 0.2885 - accuracy: 0.8878 - val_loss: 0.2690 - val_accuracy: 0.8955\n",
      "Epoch 4/10\n",
      "8483/8483 [==============================] - 167s 20ms/step - loss: 0.2605 - accuracy: 0.8957 - val_loss: 0.2527 - val_accuracy: 0.9002\n",
      "Epoch 5/10\n",
      "8483/8483 [==============================] - 167s 20ms/step - loss: 0.2342 - accuracy: 0.9056 - val_loss: 0.2441 - val_accuracy: 0.9003\n",
      "Epoch 6/10\n",
      "8483/8483 [==============================] - 166s 20ms/step - loss: 0.2091 - accuracy: 0.9151 - val_loss: 0.2336 - val_accuracy: 0.9026\n",
      "Epoch 7/10\n",
      "8483/8483 [==============================] - 164s 19ms/step - loss: 0.1891 - accuracy: 0.9227 - val_loss: 0.2312 - val_accuracy: 0.9051\n",
      "Epoch 8/10\n",
      "8483/8483 [==============================] - 164s 19ms/step - loss: 0.1691 - accuracy: 0.9317 - val_loss: 0.2323 - val_accuracy: 0.9051\n",
      "Epoch 9/10\n",
      "8483/8483 [==============================] - 165s 19ms/step - loss: 0.1463 - accuracy: 0.9423 - val_loss: 0.2471 - val_accuracy: 0.9047\n",
      "Epoch 10/10\n",
      "8483/8483 [==============================] - 166s 20ms/step - loss: 0.1271 - accuracy: 0.9515 - val_loss: 0.2531 - val_accuracy: 0.9039\n"
     ]
    }
   ],
   "source": [
    "\n",
    "history = model.fit(X_train, Y_train,\n",
    "          epochs=10,\n",
    "          batch_size = 128,\n",
    "          validation_data=(X_test, Y_test))"
   ]
  },
  {
   "cell_type": "code",
   "execution_count": 25,
   "metadata": {},
   "outputs": [
    {
     "data": {
      "image/png": "[encoded data removed]",
      "text/plain": [
       "<Figure size 432x288 with 1 Axes>"
      ]
     },
     "metadata": {
      "needs_background": "light"
     },
     "output_type": "display_data"
    }
   ],
   "source": [
    "import keras\n",
    "from matplotlib import pyplot as plt\n",
    "plt.plot(history.history['accuracy'])\n",
    "plt.plot(history.history['val_accuracy'])\n",
    "plt.title('model accuracy')\n",
    "plt.ylabel('accuracy')\n",
    "plt.xlabel('epoch')\n",
    "plt.legend(['train', 'val'], loc='upper left')\n",
    "plt.show()"
   ]
  },
  {
   "cell_type": "code",
   "execution_count": 26,
   "metadata": {},
   "outputs": [
    {
     "data": {
      "image/png": "[encoded data removed]",
      "text/plain": [
       "<Figure size 432x288 with 1 Axes>"
      ]
     },
     "metadata": {
      "needs_background": "light"
     },
     "output_type": "display_data"
    }
   ],
   "source": [
    "plt.plot(history.history['loss'])\n",
    "plt.plot(history.history['val_loss'])\n",
    "plt.title('model loss')\n",
    "plt.ylabel('loss')\n",
    "plt.xlabel('epoch')\n",
    "plt.legend(['train', 'val'], loc='upper left')\n",
    "plt.show()"
   ]
  },
  {
   "cell_type": "code",
   "execution_count": 27,
   "metadata": {},
   "outputs": [],
   "source": [
    "model.save_weights('my_model_weights.h5')"
   ]
  },
  {
   "cell_type": "code",
   "execution_count": null,
   "metadata": {},
   "outputs": [],
   "source": []
  }
 ],
 "metadata": {
  "kernelspec": {
   "display_name": "Python 3",
   "language": "python",
   "name": "python3"
  },
  "language_info": {
   "codemirror_mode": {
    "name": "ipython",
    "version": 3
   },
   "file_extension": ".py",
   "mimetype": "text/x-python",
   "name": "python",
   "nbconvert_exporter": "python",
   "pygments_lexer": "ipython3",
   "version": "3.7.6"
  }
 },
 "nbformat": 4,
 "nbformat_minor": 4
}
